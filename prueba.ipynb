{
 "cells": [
  {
   "cell_type": "markdown",
   "id": "3ab7acbd",
   "metadata": {},
   "source": [
    "# Importing important libraries\n",
    "\n",
    "## Steps to be followed\n",
    "\n",
    "1. Importing nessesary ibraries\n",
    "2. Creating S3 bucket\n",
    "3. Mapping trin and test data in S3\n",
    "4. Mapping the pat od the models in S3"
   ]
  },
  {
   "cell_type": "code",
   "execution_count": 17,
   "id": "4f446836",
   "metadata": {},
   "outputs": [
    {
     "name": "stdout",
     "output_type": "stream",
     "text": [
      "Requirement already satisfied: sagemaker in /home/ec2-user/anaconda3/envs/python3/lib/python3.6/site-packages (1.72.0)\n",
      "Requirement already satisfied: packaging>=20.0 in /home/ec2-user/anaconda3/envs/python3/lib/python3.6/site-packages (from sagemaker) (21.3)\n",
      "Requirement already satisfied: boto3>=1.14.12 in /home/ec2-user/anaconda3/envs/python3/lib/python3.6/site-packages (from sagemaker) (1.21.12)\n",
      "Requirement already satisfied: numpy>=1.9.0 in /home/ec2-user/anaconda3/envs/python3/lib/python3.6/site-packages (from sagemaker) (1.19.5)\n",
      "Requirement already satisfied: protobuf3-to-dict>=0.1.5 in /home/ec2-user/anaconda3/envs/python3/lib/python3.6/site-packages (from sagemaker) (0.1.5)\n",
      "Requirement already satisfied: smdebug-rulesconfig==0.1.4 in /home/ec2-user/anaconda3/envs/python3/lib/python3.6/site-packages (from sagemaker) (0.1.4)\n",
      "Requirement already satisfied: importlib-metadata>=1.4.0 in /home/ec2-user/anaconda3/envs/python3/lib/python3.6/site-packages (from sagemaker) (3.7.0)\n",
      "Requirement already satisfied: protobuf>=3.1 in /home/ec2-user/anaconda3/envs/python3/lib/python3.6/site-packages (from sagemaker) (3.15.2)\n",
      "Requirement already satisfied: scipy>=0.19.0 in /home/ec2-user/anaconda3/envs/python3/lib/python3.6/site-packages (from sagemaker) (1.5.3)\n",
      "Requirement already satisfied: jmespath<1.0.0,>=0.7.1 in /home/ec2-user/anaconda3/envs/python3/lib/python3.6/site-packages (from boto3>=1.14.12->sagemaker) (0.10.0)\n",
      "Requirement already satisfied: botocore<1.25.0,>=1.24.12 in /home/ec2-user/anaconda3/envs/python3/lib/python3.6/site-packages (from boto3>=1.14.12->sagemaker) (1.24.12)\n",
      "Requirement already satisfied: s3transfer<0.6.0,>=0.5.0 in /home/ec2-user/anaconda3/envs/python3/lib/python3.6/site-packages (from boto3>=1.14.12->sagemaker) (0.5.0)\n",
      "Requirement already satisfied: typing-extensions>=3.6.4 in /home/ec2-user/anaconda3/envs/python3/lib/python3.6/site-packages (from importlib-metadata>=1.4.0->sagemaker) (4.0.1)\n",
      "Requirement already satisfied: zipp>=0.5 in /home/ec2-user/anaconda3/envs/python3/lib/python3.6/site-packages (from importlib-metadata>=1.4.0->sagemaker) (3.4.0)\n",
      "Requirement already satisfied: pyparsing!=3.0.5,>=2.0.2 in /home/ec2-user/anaconda3/envs/python3/lib/python3.6/site-packages (from packaging>=20.0->sagemaker) (2.4.7)\n",
      "Requirement already satisfied: six>=1.9 in /home/ec2-user/anaconda3/envs/python3/lib/python3.6/site-packages (from protobuf>=3.1->sagemaker) (1.15.0)\n",
      "Requirement already satisfied: urllib3<1.27,>=1.25.4 in /home/ec2-user/anaconda3/envs/python3/lib/python3.6/site-packages (from botocore<1.25.0,>=1.24.12->boto3>=1.14.12->sagemaker) (1.26.8)\n",
      "Requirement already satisfied: python-dateutil<3.0.0,>=2.1 in /home/ec2-user/anaconda3/envs/python3/lib/python3.6/site-packages (from botocore<1.25.0,>=1.24.12->boto3>=1.14.12->sagemaker) (2.8.1)\n",
      "Note: you may need to restart the kernel to use updated packages.\n"
     ]
    }
   ],
   "source": [
    "pip install sagemaker"
   ]
  },
  {
   "cell_type": "code",
   "execution_count": 19,
   "id": "c904b7b7",
   "metadata": {},
   "outputs": [],
   "source": [
    "import sagemaker\n",
    "import boto3\n",
    "from sagemaker.amazon.amazon_estimator import get_image_uri\n",
    "from sagemaker.session import s3_input, Session"
   ]
  },
  {
   "cell_type": "code",
   "execution_count": 20,
   "id": "ba3eb8b3",
   "metadata": {},
   "outputs": [
    {
     "name": "stdout",
     "output_type": "stream",
     "text": [
      "my current region is  us-east-1\n"
     ]
    }
   ],
   "source": [
    "bucket_name = 'prueba2512' #we create the bucket name\n",
    "my_region = boto3.session.Session().region_name #set the region of the instance\n",
    "print(\"my current region is \",my_region)"
   ]
  },
  {
   "cell_type": "code",
   "execution_count": 21,
   "id": "370a1789",
   "metadata": {},
   "outputs": [
    {
     "name": "stdout",
     "output_type": "stream",
     "text": [
      "S3 bucket created successfully\n"
     ]
    }
   ],
   "source": [
    "s3 = boto3.resource('s3')\n",
    "try:\n",
    "    if my_region == 'us-east-1':\n",
    "        s3.create_bucket(Bucket=bucket_name)\n",
    "    print('S3 bucket created successfully')\n",
    "except Exception as e:\n",
    "    print('S3 error',e)"
   ]
  },
  {
   "cell_type": "code",
   "execution_count": 22,
   "id": "8939c4ce",
   "metadata": {},
   "outputs": [
    {
     "name": "stdout",
     "output_type": "stream",
     "text": [
      "s3://prueba2512/xgboost-as-a-built-in-algo/output\n"
     ]
    }
   ],
   "source": [
    "# set an output path where the trained model will be saved\n",
    "prefix = 'xgboost-as-a-built-in-algo'\n",
    "output_path = 's3://{}/{}/output'.format(bucket_name,prefix) #output folder where to store my model\n",
    "print(output_path)"
   ]
  },
  {
   "cell_type": "markdown",
   "id": "1092ac52",
   "metadata": {},
   "source": [
    "### Downloading the dataset and storing in S3"
   ]
  },
  {
   "cell_type": "code",
   "execution_count": 23,
   "id": "dd727cff",
   "metadata": {},
   "outputs": [
    {
     "name": "stdout",
     "output_type": "stream",
     "text": [
      "Success: downloaded bank_clean.csv.\n",
      "Success: Data loaded into dataframe\n"
     ]
    }
   ],
   "source": [
    "import pandas as pd\n",
    "import urllib \n",
    "try: \n",
    "    urllib.request.urlretrieve(\"https://d1.awsstatic.com/tmt/build-train-deploy-machine-learning-model-sagemaker/bank_clean.27f01fbbdf43271788427f3682996ae29ceca05d.csv\", \"bank_clean.csv\")\n",
    "    print(\"Success: downloaded bank_clean.csv.\")\n",
    "except Exception as e:\n",
    "    print(\"Data load error: \",e)\n",
    "                              \n",
    "try:\n",
    "    model_data = pd.read_csv('./bank_clean.csv', index_col=0)\n",
    "    print(\"Success: Data loaded into dataframe\")\n",
    "except Exception as e:\n",
    "    print(\"Data load error: \",e)"
   ]
  },
  {
   "cell_type": "code",
   "execution_count": 24,
   "id": "82ad1d6a",
   "metadata": {},
   "outputs": [
    {
     "name": "stdout",
     "output_type": "stream",
     "text": [
      "(28831, 61) (12357, 61)\n"
     ]
    }
   ],
   "source": [
    "## train test split\n",
    "import numpy as np\n",
    "train_data, test_data = np.split(model_data.sample(frac= 1, random_state=1729), [int(0.7*len(model_data))])\n",
    "\n",
    "print(train_data.shape, test_data.shape)"
   ]
  },
  {
   "cell_type": "code",
   "execution_count": 25,
   "id": "234d6356",
   "metadata": {},
   "outputs": [
    {
     "name": "stderr",
     "output_type": "stream",
     "text": [
      "'s3_input' class will be renamed to 'TrainingInput' in SageMaker Python SDK v2.\n"
     ]
    }
   ],
   "source": [
    "### In the documentation of AWS Sagemaker says that the dependence feature has to be first in the dataset\n",
    "## we move the dependence feature to the first place and savinf train and test into buckets\n",
    "import os\n",
    "pd.concat([train_data['y_yes'], train_data.drop(['y_no','y_yes'],\n",
    "                                                 axis=1)],axis=1).to_csv('train.csv', index = False, header = False)\n",
    "boto3.Session().resource('s3').Bucket(bucket_name).Object(os.path.join(prefix,'train/train.csv')).upload_file('train.csv')\n",
    "s3_input_train = sagemaker.s3_input(s3_data ='s3://{}/{}/train'.format(bucket_name,prefix), content_type = 'csv' ) #the package change\n"
   ]
  },
  {
   "cell_type": "code",
   "execution_count": 26,
   "id": "6b793353",
   "metadata": {},
   "outputs": [
    {
     "name": "stderr",
     "output_type": "stream",
     "text": [
      "'s3_input' class will be renamed to 'TrainingInput' in SageMaker Python SDK v2.\n"
     ]
    }
   ],
   "source": [
    "#now for training\n",
    "pd.concat([test_data['y_yes'], test_data.drop(['y_no','y_yes'],\n",
    "                                                 axis=1)],axis=1).to_csv('test.csv', index = False, header = False)\n",
    "boto3.Session().resource('s3').Bucket(bucket_name).Object(os.path.join(prefix,'test/test.csv')).upload_file('test.csv')\n",
    "s3_input_test = sagemaker.s3_input(s3_data ='s3://{}/{}/test'.format(bucket_name,prefix), content_type = 'csv' ) #the package change\n"
   ]
  },
  {
   "cell_type": "markdown",
   "id": "4a418147",
   "metadata": {},
   "source": [
    "### Building models Xgboost-inbuilt Algorithm"
   ]
  },
  {
   "cell_type": "code",
   "execution_count": 28,
   "id": "e7153e4b",
   "metadata": {},
   "outputs": [
    {
     "name": "stderr",
     "output_type": "stream",
     "text": [
      "'get_image_uri' method will be deprecated in favor of 'ImageURIProvider' class in SageMaker Python SDK v2.\n"
     ]
    }
   ],
   "source": [
    "#this line automatically looks for the \n",
    "container = get_image_uri(boto3.Session().region_name,\n",
    "                         'xgboost',\n",
    "                         repo_version='1.0-1')"
   ]
  },
  {
   "cell_type": "code",
   "execution_count": 33,
   "id": "98b3d502",
   "metadata": {},
   "outputs": [],
   "source": [
    "#initialize hyperparameters\n",
    "hyperparameters = {\n",
    "    'max_depth': \"5\",\n",
    "    \"eta\": \"0.2\",\n",
    "    \"gamma\": '4',\n",
    "    'min_child_weight':'6',\n",
    "    'subsample':'0.7',\n",
    "    'num_round':'100'\n",
    "}"
   ]
  },
  {
   "cell_type": "code",
   "execution_count": 34,
   "id": "3c60d61b",
   "metadata": {},
   "outputs": [
    {
     "name": "stderr",
     "output_type": "stream",
     "text": [
      "Parameter image_name will be renamed to image_uri in SageMaker Python SDK v2.\n"
     ]
    }
   ],
   "source": [
    "#contruct a sagemaker estimator that call the xgboost-container\n",
    "estimator = sagemaker.estimator.Estimator(image_name = container,\n",
    "                                         hyperparameters=hyperparameters,\n",
    "                                         role= sagemaker.get_execution_role(),\n",
    "                                         train_instance_count = 1,\n",
    "                                         train_instance_type = 'ml.m5.2xlarge', \n",
    "                                         train_volume_size = 5, #5 GB\n",
    "                                         output_path=output_path,\n",
    "                                         train_use_spot_instances = True,\n",
    "                                         train_max_run = 300,\n",
    "                                         train_max_wait = 600 \n",
    "                                         )\n"
   ]
  },
  {
   "cell_type": "code",
   "execution_count": 35,
   "id": "2df51808",
   "metadata": {},
   "outputs": [
    {
     "name": "stdout",
     "output_type": "stream",
     "text": [
      "2022-03-13 01:41:34 Starting - Starting the training job...\n",
      "2022-03-13 01:41:38 Starting - Launching requested ML instances.........\n",
      "2022-03-13 01:43:07 Starting - Preparing the instances for training...\n",
      "2022-03-13 01:43:51 Downloading - Downloading input data\n",
      "2022-03-13 01:43:51 Training - Downloading the training image.......\u001b[34mINFO:sagemaker-containers:Imported framework sagemaker_xgboost_container.training\u001b[0m\n",
      "\u001b[34mINFO:sagemaker-containers:No GPUs detected (normal if no gpus installed)\u001b[0m\n",
      "\u001b[34mINFO:sagemaker_xgboost_container.training:Running XGBoost Sagemaker in algorithm mode\u001b[0m\n",
      "\u001b[34mINFO:root:Determined delimiter of CSV input is ','\u001b[0m\n",
      "\u001b[34mINFO:root:Determined delimiter of CSV input is ','\u001b[0m\n",
      "\u001b[34mINFO:root:Determined delimiter of CSV input is ','\u001b[0m\n",
      "\u001b[34m[01:45:07] 28831x59 matrix with 1701029 entries loaded from /opt/ml/input/data/train?format=csv&label_column=0&delimiter=,\u001b[0m\n",
      "\u001b[34mINFO:root:Determined delimiter of CSV input is ','\u001b[0m\n",
      "\u001b[34m[01:45:07] 12357x59 matrix with 729063 entries loaded from /opt/ml/input/data/validation?format=csv&label_column=0&delimiter=,\u001b[0m\n",
      "\u001b[34mINFO:root:Single node training.\u001b[0m\n",
      "\u001b[34mINFO:root:Train matrix has 28831 rows\u001b[0m\n",
      "\u001b[34mINFO:root:Validation matrix has 12357 rows\u001b[0m\n",
      "\u001b[34m[01:45:07] WARNING: /workspace/src/learner.cc:328: \u001b[0m\n",
      "\u001b[34mParameters: { num_round } might not be used.\n",
      "  This may not be accurate due to some parameters are only used in language bindings but\n",
      "  passed down to XGBoost core.  Or some parameters are not used but slip through this\n",
      "  verification. Please open an issue if you find above cases.\u001b[0m\n",
      "\u001b[34m[0]#011train-rmse:0.43588#011validation-rmse:0.43629\u001b[0m\n",
      "\u001b[34m[1]#011train-rmse:0.38936#011validation-rmse:0.39016\u001b[0m\n",
      "\u001b[34m[2]#011train-rmse:0.35653#011validation-rmse:0.35783\u001b[0m\n",
      "\u001b[34m[3]#011train-rmse:0.33296#011validation-rmse:0.33490\u001b[0m\n",
      "\u001b[34m[4]#011train-rmse:0.31701#011validation-rmse:0.31940\u001b[0m\n",
      "\u001b[34m[5]#011train-rmse:0.30623#011validation-rmse:0.30902\u001b[0m\n",
      "\u001b[34m[6]#011train-rmse:0.29913#011validation-rmse:0.30234\u001b[0m\n",
      "\u001b[34m[7]#011train-rmse:0.29439#011validation-rmse:0.29781\u001b[0m\n",
      "\u001b[34m[8]#011train-rmse:0.29113#011validation-rmse:0.29476\u001b[0m\n",
      "\u001b[34m[9]#011train-rmse:0.28924#011validation-rmse:0.29310\u001b[0m\n",
      "\u001b[34m[10]#011train-rmse:0.28797#011validation-rmse:0.29183\u001b[0m\n",
      "\u001b[34m[11]#011train-rmse:0.28695#011validation-rmse:0.29096\u001b[0m\n",
      "\u001b[34m[12]#011train-rmse:0.28647#011validation-rmse:0.29060\u001b[0m\n",
      "\u001b[34m[13]#011train-rmse:0.28575#011validation-rmse:0.29015\u001b[0m\n",
      "\u001b[34m[14]#011train-rmse:0.28558#011validation-rmse:0.29004\u001b[0m\n",
      "\u001b[34m[15]#011train-rmse:0.28548#011validation-rmse:0.28998\u001b[0m\n",
      "\u001b[34m[16]#011train-rmse:0.28541#011validation-rmse:0.28996\u001b[0m\n",
      "\u001b[34m[17]#011train-rmse:0.28537#011validation-rmse:0.28994\u001b[0m\n",
      "\u001b[34m[18]#011train-rmse:0.28534#011validation-rmse:0.28994\u001b[0m\n",
      "\u001b[34m[19]#011train-rmse:0.28531#011validation-rmse:0.28994\u001b[0m\n",
      "\u001b[34m[20]#011train-rmse:0.28520#011validation-rmse:0.28987\u001b[0m\n",
      "\u001b[34m[21]#011train-rmse:0.28520#011validation-rmse:0.28988\u001b[0m\n",
      "\u001b[34m[22]#011train-rmse:0.28519#011validation-rmse:0.28988\u001b[0m\n",
      "\u001b[34m[23]#011train-rmse:0.28518#011validation-rmse:0.28989\u001b[0m\n",
      "\u001b[34m[24]#011train-rmse:0.28519#011validation-rmse:0.28990\u001b[0m\n",
      "\u001b[34m[25]#011train-rmse:0.28518#011validation-rmse:0.28991\u001b[0m\n",
      "\u001b[34m[26]#011train-rmse:0.28518#011validation-rmse:0.28992\u001b[0m\n",
      "\u001b[34m[27]#011train-rmse:0.28518#011validation-rmse:0.28992\u001b[0m\n",
      "\u001b[34m[28]#011train-rmse:0.28518#011validation-rmse:0.28992\u001b[0m\n",
      "\u001b[34m[29]#011train-rmse:0.28478#011validation-rmse:0.28946\u001b[0m\n",
      "\u001b[34m[30]#011train-rmse:0.28449#011validation-rmse:0.28921\u001b[0m\n",
      "\u001b[34m[31]#011train-rmse:0.28449#011validation-rmse:0.28921\u001b[0m\n",
      "\u001b[34m[32]#011train-rmse:0.28449#011validation-rmse:0.28922\u001b[0m\n",
      "\u001b[34m[33]#011train-rmse:0.28449#011validation-rmse:0.28923\u001b[0m\n",
      "\u001b[34m[34]#011train-rmse:0.28449#011validation-rmse:0.28923\u001b[0m\n",
      "\u001b[34m[35]#011train-rmse:0.28449#011validation-rmse:0.28922\u001b[0m\n",
      "\u001b[34m[36]#011train-rmse:0.28450#011validation-rmse:0.28922\u001b[0m\n",
      "\u001b[34m[37]#011train-rmse:0.28449#011validation-rmse:0.28922\u001b[0m\n",
      "\u001b[34m[38]#011train-rmse:0.28449#011validation-rmse:0.28921\u001b[0m\n",
      "\u001b[34m[39]#011train-rmse:0.28449#011validation-rmse:0.28921\u001b[0m\n",
      "\u001b[34m[40]#011train-rmse:0.28449#011validation-rmse:0.28921\u001b[0m\n",
      "\u001b[34m[41]#011train-rmse:0.28449#011validation-rmse:0.28921\u001b[0m\n",
      "\u001b[34m[42]#011train-rmse:0.28449#011validation-rmse:0.28920\u001b[0m\n",
      "\u001b[34m[43]#011train-rmse:0.28449#011validation-rmse:0.28920\u001b[0m\n",
      "\u001b[34m[44]#011train-rmse:0.28449#011validation-rmse:0.28920\u001b[0m\n",
      "\u001b[34m[45]#011train-rmse:0.28449#011validation-rmse:0.28920\u001b[0m\n",
      "\u001b[34m[46]#011train-rmse:0.28449#011validation-rmse:0.28920\u001b[0m\n",
      "\u001b[34m[47]#011train-rmse:0.28449#011validation-rmse:0.28920\u001b[0m\n",
      "\u001b[34m[48]#011train-rmse:0.28449#011validation-rmse:0.28920\u001b[0m\n",
      "\u001b[34m[49]#011train-rmse:0.28449#011validation-rmse:0.28919\u001b[0m\n",
      "\u001b[34m[50]#011train-rmse:0.28449#011validation-rmse:0.28921\u001b[0m\n",
      "\u001b[34m[51]#011train-rmse:0.28416#011validation-rmse:0.28896\u001b[0m\n",
      "\u001b[34m[52]#011train-rmse:0.28416#011validation-rmse:0.28895\u001b[0m\n",
      "\u001b[34m[53]#011train-rmse:0.28416#011validation-rmse:0.28895\u001b[0m\n",
      "\u001b[34m[54]#011train-rmse:0.28416#011validation-rmse:0.28896\u001b[0m\n",
      "\u001b[34m[55]#011train-rmse:0.28416#011validation-rmse:0.28897\u001b[0m\n",
      "\u001b[34m[56]#011train-rmse:0.28416#011validation-rmse:0.28897\u001b[0m\n",
      "\u001b[34m[57]#011train-rmse:0.28416#011validation-rmse:0.28896\u001b[0m\n",
      "\u001b[34m[58]#011train-rmse:0.28416#011validation-rmse:0.28896\u001b[0m\n",
      "\u001b[34m[59]#011train-rmse:0.28416#011validation-rmse:0.28896\u001b[0m\n",
      "\u001b[34m[60]#011train-rmse:0.28416#011validation-rmse:0.28896\u001b[0m\n",
      "\u001b[34m[61]#011train-rmse:0.28416#011validation-rmse:0.28895\u001b[0m\n",
      "\u001b[34m[62]#011train-rmse:0.28416#011validation-rmse:0.28895\u001b[0m\n",
      "\u001b[34m[63]#011train-rmse:0.28416#011validation-rmse:0.28896\u001b[0m\n",
      "\u001b[34m[64]#011train-rmse:0.28416#011validation-rmse:0.28896\u001b[0m\n",
      "\u001b[34m[65]#011train-rmse:0.28416#011validation-rmse:0.28896\u001b[0m\n",
      "\u001b[34m[66]#011train-rmse:0.28416#011validation-rmse:0.28896\u001b[0m\n",
      "\u001b[34m[67]#011train-rmse:0.28416#011validation-rmse:0.28895\u001b[0m\n",
      "\u001b[34m[68]#011train-rmse:0.28416#011validation-rmse:0.28896\u001b[0m\n",
      "\u001b[34m[69]#011train-rmse:0.28416#011validation-rmse:0.28896\u001b[0m\n",
      "\u001b[34m[70]#011train-rmse:0.28400#011validation-rmse:0.28886\u001b[0m\n",
      "\u001b[34m[71]#011train-rmse:0.28400#011validation-rmse:0.28886\u001b[0m\n",
      "\u001b[34m[72]#011train-rmse:0.28400#011validation-rmse:0.28886\u001b[0m\n",
      "\u001b[34m[73]#011train-rmse:0.28400#011validation-rmse:0.28886\u001b[0m\n",
      "\u001b[34m[74]#011train-rmse:0.28400#011validation-rmse:0.28886\u001b[0m\n",
      "\u001b[34m[75]#011train-rmse:0.28400#011validation-rmse:0.28886\u001b[0m\n",
      "\u001b[34m[76]#011train-rmse:0.28400#011validation-rmse:0.28885\u001b[0m\n",
      "\u001b[34m[77]#011train-rmse:0.28400#011validation-rmse:0.28886\u001b[0m\n",
      "\u001b[34m[78]#011train-rmse:0.28400#011validation-rmse:0.28886\u001b[0m\n",
      "\u001b[34m[79]#011train-rmse:0.28400#011validation-rmse:0.28886\u001b[0m\n",
      "\u001b[34m[80]#011train-rmse:0.28400#011validation-rmse:0.28886\u001b[0m\n",
      "\u001b[34m[81]#011train-rmse:0.28376#011validation-rmse:0.28867\u001b[0m\n",
      "\u001b[34m[82]#011train-rmse:0.28376#011validation-rmse:0.28867\u001b[0m\n",
      "\u001b[34m[83]#011train-rmse:0.28376#011validation-rmse:0.28867\u001b[0m\n",
      "\u001b[34m[84]#011train-rmse:0.28376#011validation-rmse:0.28868\u001b[0m\n",
      "\u001b[34m[85]#011train-rmse:0.28376#011validation-rmse:0.28868\u001b[0m\n",
      "\u001b[34m[86]#011train-rmse:0.28376#011validation-rmse:0.28868\u001b[0m\n",
      "\u001b[34m[87]#011train-rmse:0.28376#011validation-rmse:0.28867\u001b[0m\n",
      "\u001b[34m[88]#011train-rmse:0.28376#011validation-rmse:0.28868\u001b[0m\n",
      "\u001b[34m[89]#011train-rmse:0.28376#011validation-rmse:0.28868\u001b[0m\n",
      "\u001b[34m[90]#011train-rmse:0.28376#011validation-rmse:0.28868\u001b[0m\n",
      "\u001b[34m[91]#011train-rmse:0.28376#011validation-rmse:0.28868\u001b[0m\n",
      "\u001b[34m[92]#011train-rmse:0.28376#011validation-rmse:0.28869\u001b[0m\n",
      "\u001b[34m[93]#011train-rmse:0.28376#011validation-rmse:0.28868\u001b[0m\n",
      "\u001b[34m[94]#011train-rmse:0.28376#011validation-rmse:0.28867\u001b[0m\n",
      "\u001b[34m[95]#011train-rmse:0.28376#011validation-rmse:0.28868\u001b[0m\n",
      "\u001b[34m[96]#011train-rmse:0.28376#011validation-rmse:0.28868\u001b[0m\n",
      "\u001b[34m[97]#011train-rmse:0.28376#011validation-rmse:0.28868\u001b[0m\n",
      "\u001b[34m[98]#011train-rmse:0.28376#011validation-rmse:0.28867\u001b[0m\n",
      "\u001b[34m[99]#011train-rmse:0.28376#011validation-rmse:0.28867\u001b[0m\n",
      "\n",
      "2022-03-13 01:45:19 Uploading - Uploading generated training model\n",
      "2022-03-13 01:45:19 Completed - Training job completed\n",
      "Training seconds: 94\n",
      "Billable seconds: 45\n",
      "Managed Spot Training savings: 52.1%\n"
     ]
    }
   ],
   "source": [
    "estimator.fit({'train':s3_input_train,'validation':s3_input_test})\n",
    "\n"
   ]
  },
  {
   "cell_type": "markdown",
   "id": "ccffd42f",
   "metadata": {},
   "source": [
    "### Deploy Machine Learning Model"
   ]
  },
  {
   "cell_type": "code",
   "execution_count": 36,
   "id": "0ef8dd87",
   "metadata": {},
   "outputs": [
    {
     "name": "stderr",
     "output_type": "stream",
     "text": [
      "Parameter image will be renamed to image_uri in SageMaker Python SDK v2.\n"
     ]
    },
    {
     "name": "stdout",
     "output_type": "stream",
     "text": [
      "-----!"
     ]
    }
   ],
   "source": [
    "xgb_predictor = estimator.deploy(initial_instance_count = 1,instance_type= 'ml.m5.2xlarge')"
   ]
  },
  {
   "cell_type": "markdown",
   "id": "bfa1cc65",
   "metadata": {},
   "source": [
    "#### Prediction of the test data"
   ]
  },
  {
   "cell_type": "code",
   "execution_count": 39,
   "id": "581ea7a9",
   "metadata": {},
   "outputs": [
    {
     "name": "stdout",
     "output_type": "stream",
     "text": [
      "(12357,)\n"
     ]
    }
   ],
   "source": [
    "from sagemaker.predictor import csv_serializer\n",
    "test_data_array = test_data.drop(['y_no','y_yes'],axis = 1).values\n",
    "xgb_predictor.content_type = 'text/csv'\n",
    "xgb_predictor.serializer = csv_serializer\n",
    "predictions = xgb_predictor.predict(test_data_array).decode('utf-8')\n",
    "predictions_array = np.fromstring(predictions[1:],sep = ',')\n",
    "print(predictions_array.shape)"
   ]
  },
  {
   "cell_type": "code",
   "execution_count": 40,
   "id": "30bafa19",
   "metadata": {},
   "outputs": [
    {
     "data": {
      "text/plain": [
       "array([0.05987549, 0.05381063, 0.04968706, ..., 0.04968706, 0.04968706,\n",
       "       0.03934947])"
      ]
     },
     "execution_count": 40,
     "metadata": {},
     "output_type": "execute_result"
    }
   ],
   "source": [
    "predictions_array"
   ]
  },
  {
   "cell_type": "code",
   "execution_count": 41,
   "id": "8b8bf753",
   "metadata": {},
   "outputs": [
    {
     "name": "stdout",
     "output_type": "stream",
     "text": [
      "\n",
      "Overall Classification Rate: 89.7%\n",
      "\n",
      "Predicted      No Purchase    Purchase\n",
      "Observed\n",
      "No Purchase    90% (10824)    30% (112)\n",
      "Purchase        10% (1165)     70% (256) \n",
      "\n"
     ]
    }
   ],
   "source": [
    "cm = pd.crosstab(index=test_data['y_yes'], columns = np.round(predictions_array),rownames=['observed'],\n",
    "                colnames = ['Predicted'])\n",
    "tn = cm.iloc[0,0]; fn = cm.iloc[1,0];tp =cm.iloc[1,1]; fp=cm.iloc[0,1]; p = (tp+tn)/(tp+tn+fp+fn) *100\n",
    "\n",
    "print(\"\\n{0:<20}{1:<4.1f}%\\n\".format(\"Overall Classification Rate: \", p))\n",
    "print(\"{0:<15}{1:<15}{2:>8}\".format(\"Predicted\", \"No Purchase\", \"Purchase\"))\n",
    "print(\"Observed\")\n",
    "\n",
    "print(\"{0:<15}{1:<2.0f}% ({2:<}){3:>6.0f}% ({4:<})\".format(\"No Purchase\", tn/(tn+fn)*100,tn, fp/(tp+fp)*100, fp))\n",
    "print(\"{0:<16}{1:<1.0f}% ({2:<}){3:>7.0f}% ({4:<}) \\n\".format(\"Purchase\", fn/(tn+fn)*100,fn, tp/(tp+fp)*100, tp))\n"
   ]
  },
  {
   "cell_type": "markdown",
   "id": "08a57569",
   "metadata": {},
   "source": [
    "# deleting the endpoints\n"
   ]
  },
  {
   "cell_type": "code",
   "execution_count": 43,
   "id": "b773a298",
   "metadata": {},
   "outputs": [
    {
     "data": {
      "text/plain": [
       "[{'ResponseMetadata': {'RequestId': '9K7P43HXDXFJQ13W',\n",
       "   'HostId': 'VUD/k33GTAQmtv1W2K/zQU2xun6IJObG64ZpEIWfgHdzi30as9Ug9QU5J3X/PHuiEGD2SBchD24=',\n",
       "   'HTTPStatusCode': 200,\n",
       "   'HTTPHeaders': {'x-amz-id-2': 'VUD/k33GTAQmtv1W2K/zQU2xun6IJObG64ZpEIWfgHdzi30as9Ug9QU5J3X/PHuiEGD2SBchD24=',\n",
       "    'x-amz-request-id': '9K7P43HXDXFJQ13W',\n",
       "    'date': 'Sun, 13 Mar 2022 02:09:59 GMT',\n",
       "    'content-type': 'application/xml',\n",
       "    'transfer-encoding': 'chunked',\n",
       "    'server': 'AmazonS3',\n",
       "    'connection': 'close'},\n",
       "   'RetryAttempts': 0},\n",
       "  'Deleted': [{'Key': 'xgboost-as-a-built-in-algo/train/train.csv'},\n",
       "   {'Key': 'xgboost-as-a-built-in-algo/output/sagemaker-xgboost-2022-03-13-01-41-34-515/output/model.tar.gz'},\n",
       "   {'Key': 'xgboost-as-a-built-in-algo/test/test.csv'}]}]"
      ]
     },
     "execution_count": 43,
     "metadata": {},
     "output_type": "execute_result"
    }
   ],
   "source": [
    "sagemaker.Session().delete_endpoint(xgb_predictor.endpoint)\n",
    "bucket_to_delete = boto3.resource('s3').Bucket(bucket_name)\n",
    "bucket_to_delete.objects.all().delete()"
   ]
  }
 ],
 "metadata": {
  "kernelspec": {
   "display_name": "conda_python3",
   "language": "python",
   "name": "conda_python3"
  },
  "language_info": {
   "codemirror_mode": {
    "name": "ipython",
    "version": 3
   },
   "file_extension": ".py",
   "mimetype": "text/x-python",
   "name": "python",
   "nbconvert_exporter": "python",
   "pygments_lexer": "ipython3",
   "version": "3.6.13"
  }
 },
 "nbformat": 4,
 "nbformat_minor": 5
}
